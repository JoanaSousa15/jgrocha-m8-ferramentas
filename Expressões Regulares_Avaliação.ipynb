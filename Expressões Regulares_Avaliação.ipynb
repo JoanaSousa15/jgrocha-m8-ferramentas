{
 "cells": [
  {
   "cell_type": "code",
   "execution_count": 11,
   "id": "68c26b09",
   "metadata": {},
   "outputs": [
    {
     "name": "stdout",
     "output_type": "stream",
     "text": [
      "LOCUS       DQ887183                1296 bp    DNA     linear   BCT 22-DEC-2010\n",
      "DEFINITION  Thermus thermophilus isolate KNOUC202 beta-glycosidase gene,\n",
      "            complete cds.\n",
      "ACCESSION   DQ887183\n",
      "VERSION     DQ887183.1\n",
      "KEYWORDS    .\n",
      "SOURCE      Thermus thermophilus\n",
      "  ORGANISM  Thermus thermophilus\n",
      "            Bacteria; Deinococcus-Thermus; Deinococci; Thermales; Thermaceae;\n",
      "            Thermus.\n",
      "REFERENCE   1  (bases 1 to 1296)\n",
      "  AUTHORS   Nam,E.S., Kim,M.S., Lee,H.B. and Ahn,J.K.\n",
      "  TITLE     beta-Glycosidase of Thermus thermophilus KNOUC202: Gene and\n",
      "            biochemical properties of the enzyme expressed in Escherichia coli\n",
      "  JOURNAL   Appl. Biochem. Microbiol. 46 (5), 515-524 (2010)\n",
      "REFERENCE   2  (bases 1 to 1296)\n",
      "  AUTHORS   Ahn,J.K., Nam,E.S., Choi,J.W., Cha,S.K., Kang,S.K., Cho,K.K. and\n",
      "            Choi,Y.J.\n",
      "  TITLE     Beta-glycosidase gene of Thermus thermophilus KNOUC202\n",
      "  JOURNAL   Unpublished\n",
      "REFERENCE   3  (bases 1 to 1296)\n",
      "  AUTHORS   Ahn,J.K., Nam,E.S., Choi,J.W., Cha,S.K., Kang,S.K., Cho,K.K. and\n",
      "            Choi,Y.J.\n",
      "  TITLE     Direct Submission\n",
      "  JOURNAL   Submitted (07-AUG-2006) Department of Agricultural Sciences, Korea\n",
      "            National Open University, 169 Dongsung-Dong Jongno-Gu, Seoul\n",
      "            110-791, Republic of Korea\n",
      "FEATURES             Location/Qualifiers\n",
      "     source          1..1296\n",
      "                     /organism=\"Thermus thermophilus\"\n",
      "                     /mol_type=\"genomic DNA\"\n",
      "                     /isolate=\"KNOUC202\"\n",
      "                     /db_xref=\"taxon:274\"\n",
      "     CDS             1..1296\n",
      "                     /codon_start=1\n",
      "                     /transl_table=11\n",
      "                     /product=\"beta-glycosidase\"\n",
      "                     /protein_id=\"ABI35984.1\"\n",
      "                     /translation=\"MTENAEKFLWGVATSAYQIEGATQEDGRGPSIWDAFARRPGAIR\n",
      "                     DGSTGEPACDHYRRYEEDIALMQSLGVRAYRFSVAWPRILPEGRGRINPKGLAFYDRL\n",
      "                     VDRLLASGITPFLTLYHWDLPLALEERGGWRSRETAFAFAEYAEAVARALADRVPFFA\n",
      "                     TLNEPWCSAFLGHWTGEHAPGLRNLEAALRAAHHLLLGHGLAVEALRAAGARRVGIVL\n",
      "                     NFAPAYGEDPEAVDVADRYHNRYFLDPILGKGYPESPFRDPPPVPILSRDLELVARPL\n",
      "                     DFLGVNYYAPVRVAPGTGTLPVRYLPPEGPATAMGWEVYPEGLHHLLKRLGREVPWPL\n",
      "                     YVTENGAAYPDLWTGEAVVEDPERVAYLEAHVEAALRAREEGVDLRGYFVWSLMDNFE\n",
      "                     WAFGYTRRFGLYYVDFPSQRRIPKRSALWYRERIARAQT\"\n",
      "ORIGIN      \n",
      "        1 atgaccgaga acgccgaaaa attcctttgg ggggtggcca ccagcgccta ccagattgag\n",
      "       61 ggggccaccc aggaggacgg ccgggggcct tccatctggg acgccttcgc ccgccgcccc\n",
      "      121 ggggccatcc gggacgggag cacaggggag cccgcctgcg accactaccg ccgctacgag\n",
      "      181 gaggacatcg ccctgatgca atccctcggg gtgcgggcct accgcttctc cgtggcctgg\n",
      "      241 ccccggatcc tccccgaggg ccggggacgg atcaacccca agggcctcgc cttctacgac\n",
      "      301 cgcctggtgg accggcttct cgcttccggg atcacgccct ttctcaccct ctaccactgg\n",
      "      361 gacctgcctt tggccctgga ggagcgggga ggctggcgga gccgggagac cgccttcgcc\n",
      "      421 ttcgccgagt acgccgaggc ggtggcccgg gccctcgccg accgggtgcc cttcttcgcc\n",
      "      481 accctgaacg agccctggtg ctcggccttc ctcgggcact ggacggggga acacgccccc\n",
      "      541 ggcctcagga acctggaagc ggccctccgc gccgcccacc acctcctcct gggccacggc\n",
      "      601 ctcgccgtgg aggccttgag ggccgcgggg gcgaggcggg tggggatcgt cctcaacttc\n",
      "      661 gccccggcct acggcgagga ccccgaggcg gtggacgtgg ccgaccgcta ccacaaccgc\n",
      "      721 tacttcttgg accccatcct gggcaagggg tatcccgaaa gccccttccg agaccccccg\n",
      "      781 cccgtcccca tcctctcccg cgacctggag ctcgtggcaa ggcccctgga cttcctgggg\n",
      "      841 gtgaactact acgcccccgt ccgcgtggcc ccggggacgg ggaccttgcc cgtgcgctac\n",
      "      901 cttcccccgg aagggccggc cacggccatg gggtgggagg tctaccccga ggggcttcac\n",
      "      961 cacctcttga agcgcctcgg ccgggaggtg ccctggcccc tttacgtcac ggaaaacggg\n",
      "     1021 gccgcctacc ccgacctctg gacgggagag gccgtggtgg aggaccccga gcgggtggcc\n",
      "     1081 tacctcgagg cccacgtgga ggccgccctc cgggcccggg aagaaggggt ggacctccgg\n",
      "     1141 ggctacttcg tctggagcct catggacaac tttgagtggg ccttcggcta cacccggcgc\n",
      "     1201 ttcggcctct actacgtgga cttccccagc cagaggcgca tccccaaaag gagcgccctc\n",
      "     1261 tggtaccggg agcggatcgc gcgggcccag acctaa\n",
      "//\n",
      "\n",
      "\n"
     ]
    }
   ],
   "source": [
    "import re\n",
    "\n",
    "fonte = open(\"Thermus thermophilus.gb\",\"r\")\n",
    "locus = fonte.read()\n",
    "fonte.close()\n",
    "print(locus)"
   ]
  },
  {
   "cell_type": "code",
   "execution_count": 8,
   "id": "72484b56",
   "metadata": {},
   "outputs": [
    {
     "name": "stdout",
     "output_type": "stream",
     "text": [
      "Thermus thermophilus isolate KNOUC202 beta-glycosidase gene, complete cds. \n"
     ]
    }
   ],
   "source": [
    "existe = re.findall(r\"DEFINITION\\s+.*?(?=ACCESSION)\", locus, re.DOTALL)\n",
    "if existe:\n",
    "    for definition in existe:\n",
    "        m = re.match( r\"DEFINITION\\s+(.+)\", definition, re.DOTALL )\n",
    "        print( re.sub(r\"\\s+\", \" \", m.group(1) ) )"
   ]
  },
  {
   "cell_type": "code",
   "execution_count": 10,
   "id": "6570d0e8",
   "metadata": {},
   "outputs": [
    {
     "name": "stdout",
     "output_type": "stream",
     "text": [
      "atgaccgagaacgccgaaaaattcctttggggggtggccaccagcgcctaccagattgagggggccacccaggaggacggccgggggccttccatctgggacgccttcgcccgccgccccggggccatccgggacgggagcacaggggagcccgcctgcgaccactaccgccgctacgaggaggacatcgccctgatgcaatccctcggggtgcgggcctaccgcttctccgtggcctggccccggatcctccccgagggccggggacggatcaaccccaagggcctcgccttctacgaccgcctggtggaccggcttctcgcttccgggatcacgccctttctcaccctctaccactgggacctgcctttggccctggaggagcggggaggctggcggagccgggagaccgccttcgccttcgccgagtacgccgaggcggtggcccgggccctcgccgaccgggtgcccttcttcgccaccctgaacgagccctggtgctcggccttcctcgggcactggacgggggaacacgcccccggcctcaggaacctggaagcggccctccgcgccgcccaccacctcctcctgggccacggcctcgccgtggaggccttgagggccgcgggggcgaggcgggtggggatcgtcctcaacttcgccccggcctacggcgaggaccccgaggcggtggacgtggccgaccgctaccacaaccgctacttcttggaccccatcctgggcaaggggtatcccgaaagccccttccgagaccccccgcccgtccccatcctctcccgcgacctggagctcgtggcaaggcccctggacttcctgggggtgaactactacgcccccgtccgcgtggccccggggacggggaccttgcccgtgcgctaccttcccccggaagggccggccacggccatggggtgggaggtctaccccgaggggcttcaccacctcttgaagcgcctcggccgggaggtgccctggcccctttacgtcacggaaaacggggccgcctaccccgacctctggacgggagaggccgtggtggaggaccccgagcgggtggcctacctcgaggcccacgtggaggccgccctccgggcccgggaagaaggggtggacctccggggctacttcgtctggagcctcatggacaactttgagtgggccttcggctacacccggcgcttcggcctctactacgtggacttccccagccagaggcgcatccccaaaaggagcgccctctggtaccgggagcggatcgcgcgggcccagacctaa\n"
     ]
    }
   ],
   "source": [
    "import re\n",
    "\n",
    "flag = False\n",
    "sequence = \"\"\n",
    "fonte = open(\"Thermus thermophilus.gb\", \"r\")\n",
    "for linha in fonte:\n",
    "    if re.search(r\"//\", linha):\n",
    "        flag = False\n",
    "    if flag:\n",
    "        s = re.match(r\"\\s+\\d+ ([atgc ]+)\", linha)\n",
    "        if s:\n",
    "            sequence = sequence + s.group(1).replace(\" \", \"\")\n",
    "    if re.search(r\"ORIGIN\", linha):\n",
    "        flag = True\n",
    "fonte.close()\n",
    "print( sequence )"
   ]
  },
  {
   "cell_type": "code",
   "execution_count": null,
   "id": "4a18ca06",
   "metadata": {},
   "outputs": [],
   "source": []
  }
 ],
 "metadata": {
  "kernelspec": {
   "display_name": "Python 3 (ipykernel)",
   "language": "python",
   "name": "python3"
  },
  "language_info": {
   "codemirror_mode": {
    "name": "ipython",
    "version": 3
   },
   "file_extension": ".py",
   "mimetype": "text/x-python",
   "name": "python",
   "nbconvert_exporter": "python",
   "pygments_lexer": "ipython3",
   "version": "3.9.13"
  }
 },
 "nbformat": 4,
 "nbformat_minor": 5
}
